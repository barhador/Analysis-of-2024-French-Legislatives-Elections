{
 "cells": [
  {
   "cell_type": "markdown",
   "metadata": {},
   "source": [
    "# Analysis-of-2024-French-Legislatives-Elections"
   ]
  },
  {
   "cell_type": "markdown",
   "metadata": {},
   "source": [
    "İmport Modules"
   ]
  },
  {
   "cell_type": "code",
   "execution_count": 12,
   "metadata": {},
   "outputs": [],
   "source": [
    "import pandas as pd\n",
    "import os \n",
    "import sqlite3\n",
    "import google.generativeai as genai\n",
    "import csv\n",
    "import dotenv\n",
    "from langchain_google_genai import ChatGoogleGenerativeAI\n",
    "from langchain_community.utilities import SQLDatabase\n",
    "from langchain_experimental.sql import SQLDatabaseChain\n",
    "from langchain.agents import initialize_agent , tools \n",
    "\n"
   ]
  },
  {
   "cell_type": "markdown",
   "metadata": {},
   "source": [
    "# Gathering Data"
   ]
  },
  {
   "cell_type": "code",
   "execution_count": 13,
   "metadata": {},
   "outputs": [
    {
     "name": "stdout",
     "output_type": "stream",
     "text": [
      "Data from resultats-definitifs-par-regions.csv has been written to elections.db in the 'elections' table.\n"
     ]
    }
   ],
   "source": [
    "csv_file = 'resultats-definitifs-par-regions.csv'\n",
    "df = pd.read_csv(csv_file, sep=';', decimal=',')\n",
    "\n",
    "# create a SQLite database and connect to it\n",
    "db_file = 'elections.db'\n",
    "conn = sqlite3.connect(db_file)\n",
    "\n",
    "# write the DataFrame to a SQLite table\n",
    "df.to_sql('elections', conn, if_exists='replace', index=False)\n",
    "conn.close()\n",
    "print(f\"Data from {csv_file} has been written to {db_file} in the 'elections' table.\")\n"
   ]
  },
  {
   "cell_type": "markdown",
   "metadata": {},
   "source": [
    "# Using the LLM to Write and Run SQL"
   ]
  },
  {
   "cell_type": "code",
   "execution_count": 14,
   "metadata": {},
   "outputs": [
    {
     "name": "stdout",
     "output_type": "stream",
     "text": [
      "\n",
      "\n",
      "\u001b[1m> Entering new AgentExecutor chain...\u001b[0m\n"
     ]
    },
    {
     "name": "stderr",
     "output_type": "stream",
     "text": [
      "c:\\Users\\batud\\AppData\\Local\\Programs\\Python\\Python313\\Lib\\site-packages\\langchain_experimental\\sql\\base.py:77: UserWarning: Directly instantiating an SQLDatabaseChain with an llm is deprecated. Please instantiate with llm_chain argument or using the from_llm class method.\n",
      "  warnings.warn(\n"
     ]
    },
    {
     "name": "stdout",
     "output_type": "stream",
     "text": [
      "\u001b[32;1m\u001b[1;3mThe user is asking a question about the number of voters in France. The available tool is an \"Elections Database\". This tool seems relevant for answering questions about elections data, which likely includes information about voters. I should use this tool to find the number of voters in France.Action: Elections Database\n",
      "Action Input: How many voters are in France?\u001b[0m\n",
      "\n",
      "\u001b[1m> Entering new SQLDatabaseChain chain...\u001b[0m\n",
      "How many voters are in France?\n",
      "SQLQuery:\u001b[32;1m\u001b[1;3mSQLQuery: SELECT SUM(\"Votants\") FROM elections\u001b[0m\n",
      "SQLResult: \u001b[33;1m\u001b[1;3m[(32093013,)]\u001b[0m\n",
      "\u001b[1m> Finished chain.\u001b[0m\n",
      "\n",
      "Observation: \u001b[36;1m\u001b[1;3m[(32093013,)]\u001b[0m\n",
      "Thought:\u001b[32;1m\u001b[1;3mI now know the final answer\n",
      "Final Answer: There are 32,093,013 voters in France.\u001b[0m\n",
      "\n",
      "\u001b[1m> Finished chain.\u001b[0m\n",
      "There are 32,093,013 voters in France.\n"
     ]
    }
   ],
   "source": [
    "import os\n",
    "import dotenv\n",
    "from langchain_google_genai import ChatGoogleGenerativeAI\n",
    "from langchain_experimental.sql import SQLDatabaseChain\n",
    "from langchain_community.utilities import SQLDatabase\n",
    "from langchain.agents import initialize_agent, Tool # Import Tool\n",
    "\n",
    "\n",
    "dotenv.load_dotenv(override=True)\n",
    "\n",
    "# Database setup\n",
    "db = SQLDatabase.from_uri(\"sqlite:///elections.db\")\n",
    "\n",
    "\n",
    "llm = ChatGoogleGenerativeAI(\n",
    "    model=\"gemini-2.5-flash-preview-04-17\",\n",
    "    temperature=0,\n",
    "    google_api_key=os.getenv(\"GOOGLE_API_KEY\")\n",
    ")\n",
    "\n",
    "\n",
    "db_chain = SQLDatabaseChain(\n",
    "    llm=llm,\n",
    "    database=db,\n",
    "    verbose=True,\n",
    "    return_direct=True \n",
    ")\n",
    "tools = [\n",
    "    Tool(\n",
    "        name=\"Elections Database\",\n",
    "        func=db_chain.run, \n",
    "        description=\"Useful for answering questions about elections data. Input should be a question.\"\n",
    "    )\n",
    "]\n",
    "\n",
    "\n",
    "\n",
    "\n",
    "agent = initialize_agent(\n",
    "    tools, \n",
    "    llm,\n",
    "    agent=\"zero-shot-react-description\",\n",
    "    max_iterations=1,\n",
    "    early_stopping_method=\"generate\",\n",
    "    verbose=True\n",
    ")\n",
    "\n",
    "try:\n",
    "    response = agent.run(\"How many voters are in France?\")\n",
    "    print(response)\n",
    "except Exception as e:\n",
    "    print(f\"Agent execution failed: {e}\")\n"
   ]
  },
  {
   "cell_type": "code",
   "execution_count": 15,
   "metadata": {},
   "outputs": [
    {
     "name": "stderr",
     "output_type": "stream",
     "text": [
      "C:\\Users\\batud\\AppData\\Local\\Temp\\ipykernel_22080\\671110524.py:1: LangChainDeprecationWarning: The method `Chain.__call__` was deprecated in langchain 0.1.0 and will be removed in 1.0. Use :meth:`~invoke` instead.\n",
      "  db_chain(\"Est-ce que tu peux trouver le nombre de votants au Rassemblement National?\")\n"
     ]
    },
    {
     "name": "stdout",
     "output_type": "stream",
     "text": [
      "\n",
      "\n",
      "\u001b[1m> Entering new SQLDatabaseChain chain...\u001b[0m\n",
      "Est-ce que tu peux trouver le nombre de votants au Rassemblement National?\n",
      "SQLQuery:\u001b[32;1m\u001b[1;3mQuestion: Est-ce que tu peux trouver le nombre de votants au Rassemblement National?\n",
      "SQLQuery: SELECT SUM(CASE WHEN \"Nuance candidat 1\" = 'RN' THEN \"Voix 1\" ELSE 0 END) + SUM(CASE WHEN \"Nuance candidat 2\" = 'RN' THEN \"Voix 2\" ELSE 0 END) + SUM(CASE WHEN \"Nuance candidat 3\" = 'RN' THEN \"Voix 3\" ELSE 0 END) + SUM(CASE WHEN \"Nuance candidat 4\" = 'RN' THEN \"Voix 4\" ELSE 0 END) + SUM(CASE WHEN \"Nuance candidat 5\" = 'RN' THEN \"Voix 5\" ELSE 0 END) + SUM(CASE WHEN \"Nuance candidat 6\" = 'RN' THEN \"Voix 6\" ELSE 0 END) + SUM(CASE WHEN \"Nuance candidat 7\" = 'RN' THEN \"Voix 7\" ELSE 0 END) + SUM(CASE WHEN \"Nuance candidat 8\" = 'RN' THEN \"Voix 8\" ELSE 0 END) + SUM(CASE WHEN \"Nuance candidat 9\" = 'RN' THEN \"Voix 9\" ELSE 0 END) + SUM(CASE WHEN \"Nuance candidat 10\" = 'RN' THEN \"Voix 10\" ELSE 0 END) + SUM(CASE WHEN \"Nuance candidat 11\" = 'RN' THEN \"Voix 11\" ELSE 0 END) + SUM(CASE WHEN \"Nuance candidat 12\" = 'RN' THEN \"Voix 12\" ELSE 0 END) + SUM(CASE WHEN \"Nuance candidat 13\" = 'RN' THEN \"Voix 13\" ELSE 0 END) + SUM(CASE WHEN \"Nuance candidat 14\" = 'RN' THEN \"Voix 14\" ELSE 0 END) + SUM(CASE WHEN \"Nuance candidat 15\" = 'RN' THEN \"Voix 15\" ELSE 0 END) + SUM(CASE WHEN \"Nuance candidat 16\" = 'RN' THEN \"Voix 16\" ELSE 0 END) + SUM(CASE WHEN \"Nuance candidat 17\" = 'RN' THEN \"Voix 17\" ELSE 0 END) + SUM(CASE WHEN \"Nuance candidat 18\" = 'RN' THEN \"Voix 18\" ELSE 0 END) FROM elections\u001b[0m\n",
      "SQLResult: \u001b[33;1m\u001b[1;3m[(9316716.0,)]\u001b[0m\n",
      "\u001b[1m> Finished chain.\u001b[0m\n"
     ]
    },
    {
     "data": {
      "text/plain": [
       "{'query': 'Est-ce que tu peux trouver le nombre de votants au Rassemblement National?',\n",
       " 'result': '[(9316716.0,)]'}"
      ]
     },
     "execution_count": 15,
     "metadata": {},
     "output_type": "execute_result"
    }
   ],
   "source": [
    "db_chain(\"Est-ce que tu peux trouver le nombre de votants au Rassemblement National?\")"
   ]
  },
  {
   "cell_type": "code",
   "execution_count": 17,
   "metadata": {},
   "outputs": [
    {
     "name": "stdout",
     "output_type": "stream",
     "text": [
      "\n",
      "\n",
      "\u001b[1m> Entering new SQLDatabaseChain chain...\u001b[0m\n",
      "parisin olduğu bölgede milliyetçi hareket partisi kaç oy olmış toplam\n",
      "SQLQuery:\u001b[32;1m\u001b[1;3mQuestion: parisin olduğu bölgede milliyetçi hareket partisi kaç oy olmış toplam\n",
      "SQLQuery: SELECT SUM(CASE WHEN \"Nuance candidat 1\" = 'RN' THEN \"Voix 1\" ELSE 0 END + CASE WHEN \"Nuance candidat 2\" = 'RN' THEN \"Voix 2\" ELSE 0 END + CASE WHEN \"Nuance candidat 3\" = 'RN' THEN \"Voix 3\" ELSE 0 END + CASE WHEN \"Nuance candidat 4\" = 'RN' THEN \"Voix 4\" ELSE 0 END + CASE WHEN \"Nuance candidat 5\" = 'RN' THEN \"Voix 5\" ELSE 0 END + CASE WHEN \"Nuance candidat 6\" = 'RN' THEN \"Voix 6\" ELSE 0 END + CASE WHEN \"Nuance candidat 7\" = 'RN' THEN \"Voix 7\" ELSE 0 END + CASE WHEN \"Nuance candidat 8\" = 'RN' THEN \"Voix 8\" ELSE 0 END + CASE WHEN \"Nuance candidat 9\" = 'RN' THEN \"Voix 9\" ELSE 0 END + CASE WHEN \"Nuance candidat 10\" = 'RN' THEN \"Voix 10\" ELSE 0 END + CASE WHEN \"Nuance candidat 11\" = 'RN' THEN \"Voix 11\" ELSE 0 END + CASE WHEN \"Nuance candidat 12\" = 'RN' THEN \"Voix 12\" ELSE 0 END + CASE WHEN \"Nuance candidat 13\" = 'RN' THEN \"Voix 13\" ELSE 0 END + CASE WHEN \"Nuance candidat 14\" = 'RN' THEN \"Voix 14\" ELSE 0 END + CASE WHEN \"Nuance candidat 15\" = 'RN' THEN \"Voix 15\" ELSE 0 END + CASE WHEN \"Nuance candidat 16\" = 'RN' THEN \"Voix 16\" ELSE 0 END + CASE WHEN \"Nuance candidat 17\" = 'RN' THEN \"Voix 17\" ELSE 0 END + CASE WHEN \"Nuance candidat 18\" = 'RN' THEN \"Voix 18\" ELSE 0 END) FROM elections WHERE \"Libellé région\" = 'Île-de-France'\u001b[0m\n",
      "SQLResult: \u001b[33;1m\u001b[1;3m[(818552.0,)]\u001b[0m\n",
      "\u001b[1m> Finished chain.\u001b[0m\n"
     ]
    },
    {
     "data": {
      "text/plain": [
       "{'query': 'parisin olduğu bölgede milliyetçi hareket partisi kaç oy olmış toplam',\n",
       " 'result': '[(818552.0,)]'}"
      ]
     },
     "execution_count": 17,
     "metadata": {},
     "output_type": "execute_result"
    }
   ],
   "source": [
    "db_chain(\"parisin olduğu bölgede milliyetçi hareket partisi kaç oy olmış toplam\")"
   ]
  }
 ],
 "metadata": {
  "kernelspec": {
   "display_name": "Python 3",
   "language": "python",
   "name": "python3"
  },
  "language_info": {
   "codemirror_mode": {
    "name": "ipython",
    "version": 3
   },
   "file_extension": ".py",
   "mimetype": "text/x-python",
   "name": "python",
   "nbconvert_exporter": "python",
   "pygments_lexer": "ipython3",
   "version": "3.13.2"
  }
 },
 "nbformat": 4,
 "nbformat_minor": 2
}
