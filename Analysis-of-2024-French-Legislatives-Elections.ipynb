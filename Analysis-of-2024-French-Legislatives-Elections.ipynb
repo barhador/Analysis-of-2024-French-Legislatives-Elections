{
 "cells": [
  {
   "cell_type": "markdown",
   "metadata": {},
   "source": [
    "# Analysis-of-2024-French-Legislatives-Elections"
   ]
  },
  {
   "cell_type": "markdown",
   "metadata": {},
   "source": [
    "İmport Modules"
   ]
  },
  {
   "cell_type": "code",
   "execution_count": 5,
   "metadata": {},
   "outputs": [],
   "source": [
    "import pandas as pd\n",
    "import sqlite3\n",
    "import google.generativeai as genai\n",
    "import csv\n"
   ]
  },
  {
   "cell_type": "markdown",
   "metadata": {},
   "source": [
    "# Gathering Data"
   ]
  },
  {
   "cell_type": "code",
   "execution_count": null,
   "metadata": {},
   "outputs": [
    {
     "name": "stdout",
     "output_type": "stream",
     "text": [
      "Data from resultats-definitifs-par-regions.csv has been written to elections.db in the 'elections' table.\n"
     ]
    }
   ],
   "source": [
    "csv_file = 'resultats-definitifs-par-regions.csv'\n",
    "df = pd.read_csv(csv_file, sep=';', decimal=',')\n",
    "\n",
    "# create a SQLite database and connect to it\n",
    "db_file = 'elections.db'\n",
    "conn = sqlite3.connect(db_file)\n",
    "\n",
    "# write the DataFrame to a SQLite table\n",
    "df.to_sql('elections', conn, if_exists='replace', index=False)\n",
    "conn.close()\n",
    "print(f\"Data from {csv_file} has been written to {db_file} in the 'elections' table.\")\n"
   ]
  },
  {
   "cell_type": "markdown",
   "metadata": {},
   "source": [
    "# Using the LLM to Write and Run SQL"
   ]
  },
  {
   "cell_type": "code",
   "execution_count": null,
   "metadata": {},
   "outputs": [],
   "source": []
  }
 ],
 "metadata": {
  "kernelspec": {
   "display_name": "Python 3",
   "language": "python",
   "name": "python3"
  },
  "language_info": {
   "codemirror_mode": {
    "name": "ipython",
    "version": 3
   },
   "file_extension": ".py",
   "mimetype": "text/x-python",
   "name": "python",
   "nbconvert_exporter": "python",
   "pygments_lexer": "ipython3",
   "version": "3.13.1"
  }
 },
 "nbformat": 4,
 "nbformat_minor": 2
}
