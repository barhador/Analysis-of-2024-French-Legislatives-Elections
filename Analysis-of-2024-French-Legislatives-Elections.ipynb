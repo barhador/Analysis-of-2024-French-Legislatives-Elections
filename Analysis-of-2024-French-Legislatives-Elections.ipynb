{
 "cells": [
  {
   "cell_type": "markdown",
   "metadata": {},
   "source": [
    "# Analysis-of-2024-French-Legislatives-Elections"
   ]
  },
  {
   "cell_type": "markdown",
   "metadata": {},
   "source": [
    "İmport Modules"
   ]
  },
  {
   "cell_type": "code",
   "execution_count": 39,
   "metadata": {},
   "outputs": [],
   "source": [
    "import pandas as pd\n",
    "import sqlite3\n",
    "import google.generativeai as genai\n",
    "import csv\n",
    "import dotenv\n",
    "from langchain_google_genai import ChatGoogleGenerativeAI\n",
    "from langchain_community.utilities import SQLDatabase\n",
    "from langchain_experimental.sql import SQLDatabaseChain\n",
    "from langchain.agents import Tool\n"
   ]
  },
  {
   "cell_type": "markdown",
   "metadata": {},
   "source": [
    "# Gathering Data"
   ]
  },
  {
   "cell_type": "code",
   "execution_count": 40,
   "metadata": {},
   "outputs": [
    {
     "name": "stdout",
     "output_type": "stream",
     "text": [
      "Data from resultats-definitifs-par-regions.csv has been written to elections.db in the 'elections' table.\n"
     ]
    }
   ],
   "source": [
    "csv_file = 'resultats-definitifs-par-regions.csv'\n",
    "df = pd.read_csv(csv_file, sep=';', decimal=',')\n",
    "\n",
    "# create a SQLite database and connect to it\n",
    "db_file = 'elections.db'\n",
    "conn = sqlite3.connect(db_file)\n",
    "\n",
    "# write the DataFrame to a SQLite table\n",
    "df.to_sql('elections', conn, if_exists='replace', index=False)\n",
    "conn.close()\n",
    "print(f\"Data from {csv_file} has been written to {db_file} in the 'elections' table.\")\n"
   ]
  },
  {
   "cell_type": "markdown",
   "metadata": {},
   "source": [
    "# Using the LLM to Write and Run SQL"
   ]
  },
  {
   "cell_type": "code",
   "execution_count": 41,
   "metadata": {},
   "outputs": [
    {
     "name": "stdout",
     "output_type": "stream",
     "text": [
      "\n",
      "\n",
      "\u001b[1m> Entering new AgentExecutor chain...\u001b[0m\n"
     ]
    },
    {
     "name": "stderr",
     "output_type": "stream",
     "text": [
      "/home/codespace/.python/current/lib/python3.12/site-packages/langchain_experimental/sql/base.py:77: UserWarning: Directly instantiating an SQLDatabaseChain with an llm is deprecated. Please instantiate with llm_chain argument or using the from_llm class method.\n",
      "  warnings.warn(\n"
     ]
    },
    {
     "name": "stdout",
     "output_type": "stream",
     "text": [
      "\u001b[32;1m\u001b[1;3mThought: I need to query the database for the number of voters in France.\n",
      "\n",
      "Action: SQL Database\n",
      "Action Input: SELECT COUNT(*) FROM voters WHERE country = 'France';\u001b[0m\n",
      "\n",
      "\u001b[1m> Entering new SQLDatabaseChain chain...\u001b[0m\n",
      "SELECT COUNT(*) FROM voters WHERE country = 'France';\n",
      "SQLQuery:\u001b[32;1m\u001b[1;3mSQLQuery: SELECT COUNT(*) FROM elections;\u001b[0m\n",
      "SQLResult: \u001b[33;1m\u001b[1;3m[(18,)]\u001b[0m\n",
      "\u001b[1m> Finished chain.\u001b[0m\n",
      "\n",
      "Observation: \u001b[36;1m\u001b[1;3m[(18,)]\u001b[0m\n",
      "Thought:\u001b[32;1m\u001b[1;3mThought: I now know the final answer. The query returned a count of 18.\n",
      "\n",
      "Final Answer: There are 18 voters in France.\u001b[0m\n",
      "\n",
      "\u001b[1m> Finished chain.\u001b[0m\n",
      "There are 18 voters in France.\n"
     ]
    }
   ],
   "source": [
    "dotenv.load_dotenv(override=True)\n",
    "\n",
    "\n",
    "db = SQLDatabase.from_uri(\"sqlite:///elections.db\")\n",
    "\n",
    "\n",
    "llm = ChatGoogleGenerativeAI(\n",
    "    model=\"gemini-1.5-pro\",\n",
    "    temperature=0,\n",
    "    google_api_key=os.getenv(\"GOOGLE_API_KEY\")\n",
    ")\n",
    "\n",
    "db_chain = SQLDatabaseChain(\n",
    "    llm=llm,\n",
    "    database=db,\n",
    "    verbose=True,\n",
    "    return_direct=True\n",
    ")\n",
    "agent = initialize_agent(\n",
    "    tools, \n",
    "    llm, \n",
    "    agent=\"zero-shot-react-description\",\n",
    "    max_iterations=1,\n",
    "    early_stopping_method=\"generate\",\n",
    "    verbose=True\n",
    ")\n",
    "\n",
    "response = agent.run(\"How many voters are in France?\")\n",
    "print(response)"
   ]
  }
 ],
 "metadata": {
  "kernelspec": {
   "display_name": "Python 3",
   "language": "python",
   "name": "python3"
  },
  "language_info": {
   "codemirror_mode": {
    "name": "ipython",
    "version": 3
   },
   "file_extension": ".py",
   "mimetype": "text/x-python",
   "name": "python",
   "nbconvert_exporter": "python",
   "pygments_lexer": "ipython3",
   "version": "3.12.1"
  }
 },
 "nbformat": 4,
 "nbformat_minor": 2
}
